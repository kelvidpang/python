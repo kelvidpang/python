{
 "cells": [
  {
   "cell_type": "markdown",
   "metadata": {},
   "source": [
    "Reference: <br>\n",
    "https://www.digitalocean.com/community/tutorials/working-with-data-using-pandas-and-python-3"
   ]
  },
  {
   "cell_type": "code",
   "execution_count": 2,
   "metadata": {
    "collapsed": false
   },
   "outputs": [],
   "source": [
    "import numpy as np\n",
    "import matplotlib.pyplot as pp\n",
    "import pandas as pd\n",
    "import seaborn\n",
    "%matplotlib inline"
   ]
  },
  {
   "cell_type": "code",
   "execution_count": 4,
   "metadata": {
    "collapsed": false
   },
   "outputs": [],
   "source": [
    "import zipfile\n",
    "zipfile.ZipFile('names.zip').extractall('.')"
   ]
  },
  {
   "cell_type": "code",
   "execution_count": 49,
   "metadata": {
    "collapsed": false
   },
   "outputs": [
    {
     "data": {
      "text/html": [
       "<div>\n",
       "<style>\n",
       "    .dataframe thead tr:only-child th {\n",
       "        text-align: right;\n",
       "    }\n",
       "\n",
       "    .dataframe thead th {\n",
       "        text-align: left;\n",
       "    }\n",
       "\n",
       "    .dataframe tbody tr th {\n",
       "        vertical-align: top;\n",
       "    }\n",
       "</style>\n",
       "<table border=\"1\" class=\"dataframe\">\n",
       "  <thead>\n",
       "    <tr style=\"text-align: right;\">\n",
       "      <th></th>\n",
       "      <th>Name</th>\n",
       "      <th>Sex</th>\n",
       "      <th>Babies</th>\n",
       "      <th>Year</th>\n",
       "    </tr>\n",
       "  </thead>\n",
       "  <tbody>\n",
       "    <tr>\n",
       "      <th>33058</th>\n",
       "      <td>Zykell</td>\n",
       "      <td>M</td>\n",
       "      <td>5</td>\n",
       "      <td>2015</td>\n",
       "    </tr>\n",
       "    <tr>\n",
       "      <th>33059</th>\n",
       "      <td>Zyking</td>\n",
       "      <td>M</td>\n",
       "      <td>5</td>\n",
       "      <td>2015</td>\n",
       "    </tr>\n",
       "    <tr>\n",
       "      <th>33060</th>\n",
       "      <td>Zykir</td>\n",
       "      <td>M</td>\n",
       "      <td>5</td>\n",
       "      <td>2015</td>\n",
       "    </tr>\n",
       "    <tr>\n",
       "      <th>33061</th>\n",
       "      <td>Zyrus</td>\n",
       "      <td>M</td>\n",
       "      <td>5</td>\n",
       "      <td>2015</td>\n",
       "    </tr>\n",
       "    <tr>\n",
       "      <th>33062</th>\n",
       "      <td>Zyus</td>\n",
       "      <td>M</td>\n",
       "      <td>5</td>\n",
       "      <td>2015</td>\n",
       "    </tr>\n",
       "  </tbody>\n",
       "</table>\n",
       "</div>"
      ],
      "text/plain": [
       "         Name Sex  Babies  Year\n",
       "33058  Zykell   M       5  2015\n",
       "33059  Zyking   M       5  2015\n",
       "33060   Zykir   M       5  2015\n",
       "33061   Zyrus   M       5  2015\n",
       "33062    Zyus   M       5  2015"
      ]
     },
     "execution_count": 49,
     "metadata": {},
     "output_type": "execute_result"
    }
   ],
   "source": [
    "all_years = []\n",
    "\n",
    "for year in range(1880, 2015+1):\n",
    "    all_years.append(pd.read_csv('yob{}.txt'.format(year),\n",
    "                                 names = ['Name', 'Sex', 'Babies']))\n",
    "    all_years[-1]['Year'] = year\n",
    "\n",
    "all_names = pd.concat(all_years)\n",
    "all_names.tail()"
   ]
  },
  {
   "cell_type": "code",
   "execution_count": 50,
   "metadata": {
    "collapsed": true
   },
   "outputs": [],
   "source": [
    "group_name = all_names.groupby(['Sex', 'Year'])"
   ]
  },
  {
   "cell_type": "code",
   "execution_count": 52,
   "metadata": {
    "collapsed": false
   },
   "outputs": [
    {
     "data": {
      "text/html": [
       "<div>\n",
       "<style>\n",
       "    .dataframe thead tr:only-child th {\n",
       "        text-align: right;\n",
       "    }\n",
       "\n",
       "    .dataframe thead th {\n",
       "        text-align: left;\n",
       "    }\n",
       "\n",
       "    .dataframe tbody tr th {\n",
       "        vertical-align: top;\n",
       "    }\n",
       "</style>\n",
       "<table border=\"1\" class=\"dataframe\">\n",
       "  <thead>\n",
       "    <tr style=\"text-align: right;\">\n",
       "      <th>Year</th>\n",
       "      <th>1880</th>\n",
       "      <th>1881</th>\n",
       "      <th>1882</th>\n",
       "      <th>1883</th>\n",
       "      <th>1884</th>\n",
       "      <th>1885</th>\n",
       "      <th>1886</th>\n",
       "      <th>1887</th>\n",
       "      <th>1888</th>\n",
       "      <th>1889</th>\n",
       "      <th>...</th>\n",
       "      <th>2006</th>\n",
       "      <th>2007</th>\n",
       "      <th>2008</th>\n",
       "      <th>2009</th>\n",
       "      <th>2010</th>\n",
       "      <th>2011</th>\n",
       "      <th>2012</th>\n",
       "      <th>2013</th>\n",
       "      <th>2014</th>\n",
       "      <th>2015</th>\n",
       "    </tr>\n",
       "    <tr>\n",
       "      <th>Sex</th>\n",
       "      <th></th>\n",
       "      <th></th>\n",
       "      <th></th>\n",
       "      <th></th>\n",
       "      <th></th>\n",
       "      <th></th>\n",
       "      <th></th>\n",
       "      <th></th>\n",
       "      <th></th>\n",
       "      <th></th>\n",
       "      <th></th>\n",
       "      <th></th>\n",
       "      <th></th>\n",
       "      <th></th>\n",
       "      <th></th>\n",
       "      <th></th>\n",
       "      <th></th>\n",
       "      <th></th>\n",
       "      <th></th>\n",
       "      <th></th>\n",
       "      <th></th>\n",
       "    </tr>\n",
       "  </thead>\n",
       "  <tbody>\n",
       "    <tr>\n",
       "      <th>F</th>\n",
       "      <td>942</td>\n",
       "      <td>938</td>\n",
       "      <td>1028</td>\n",
       "      <td>1054</td>\n",
       "      <td>1172</td>\n",
       "      <td>1197</td>\n",
       "      <td>1282</td>\n",
       "      <td>1306</td>\n",
       "      <td>1474</td>\n",
       "      <td>1479</td>\n",
       "      <td>...</td>\n",
       "      <td>20047</td>\n",
       "      <td>20558</td>\n",
       "      <td>20454</td>\n",
       "      <td>20175</td>\n",
       "      <td>19810</td>\n",
       "      <td>19554</td>\n",
       "      <td>19486</td>\n",
       "      <td>19219</td>\n",
       "      <td>19169</td>\n",
       "      <td>19054</td>\n",
       "    </tr>\n",
       "    <tr>\n",
       "      <th>M</th>\n",
       "      <td>1058</td>\n",
       "      <td>997</td>\n",
       "      <td>1099</td>\n",
       "      <td>1030</td>\n",
       "      <td>1125</td>\n",
       "      <td>1097</td>\n",
       "      <td>1110</td>\n",
       "      <td>1067</td>\n",
       "      <td>1177</td>\n",
       "      <td>1111</td>\n",
       "      <td>...</td>\n",
       "      <td>14032</td>\n",
       "      <td>14388</td>\n",
       "      <td>14611</td>\n",
       "      <td>14522</td>\n",
       "      <td>14253</td>\n",
       "      <td>14339</td>\n",
       "      <td>14229</td>\n",
       "      <td>14034</td>\n",
       "      <td>14037</td>\n",
       "      <td>14009</td>\n",
       "    </tr>\n",
       "  </tbody>\n",
       "</table>\n",
       "<p>2 rows × 136 columns</p>\n",
       "</div>"
      ],
      "text/plain": [
       "Year  1880  1881  1882  1883  1884  1885  1886  1887  1888  1889  ...    \\\n",
       "Sex                                                               ...     \n",
       "F      942   938  1028  1054  1172  1197  1282  1306  1474  1479  ...     \n",
       "M     1058   997  1099  1030  1125  1097  1110  1067  1177  1111  ...     \n",
       "\n",
       "Year   2006   2007   2008   2009   2010   2011   2012   2013   2014   2015  \n",
       "Sex                                                                         \n",
       "F     20047  20558  20454  20175  19810  19554  19486  19219  19169  19054  \n",
       "M     14032  14388  14611  14522  14253  14339  14229  14034  14037  14009  \n",
       "\n",
       "[2 rows x 136 columns]"
      ]
     },
     "execution_count": 52,
     "metadata": {},
     "output_type": "execute_result"
    }
   ],
   "source": [
    "group_name.size().unstack()"
   ]
  }
 ],
 "metadata": {
  "kernelspec": {
   "display_name": "Python 3",
   "language": "python",
   "name": "python3"
  },
  "language_info": {
   "codemirror_mode": {
    "name": "ipython",
    "version": 3
   },
   "file_extension": ".py",
   "mimetype": "text/x-python",
   "name": "python",
   "nbconvert_exporter": "python",
   "pygments_lexer": "ipython3",
   "version": "3.6.0"
  }
 },
 "nbformat": 4,
 "nbformat_minor": 2
}
