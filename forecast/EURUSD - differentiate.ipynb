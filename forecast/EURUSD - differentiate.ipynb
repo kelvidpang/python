{
 "cells": [
  {
   "cell_type": "code",
   "execution_count": 60,
   "metadata": {},
   "outputs": [],
   "source": [
    "from pandas import DataFrame\n",
    "from pandas import Series\n",
    "from pandas import concat\n",
    "from pandas import read_csv\n",
    "from pandas import datetime\n",
    "from sklearn.metrics import mean_squared_error\n",
    "from sklearn.preprocessing import MinMaxScaler\n",
    "from keras.models import Sequential\n",
    "from keras.layers import Dense\n",
    "from keras.layers import LSTM\n",
    "from math import sqrt\n",
    "from matplotlib import pyplot\n",
    "import numpy\n",
    "import pandas as pd\n",
    "import numpy as np\n",
    "\n",
    "\n",
    "def parser(x):\n",
    "\treturn datetime.strptime(x, '%Y.%m.%d')\n",
    "\n",
    "# frame a sequence as a supervised learning problem\n",
    "def timeseries_to_supervised(data, lag=1):\n",
    "\tdf = DataFrame(data)\n",
    "\tcolumns = [df.shift(i) for i in range(1, lag+1)]\n",
    "\tcolumns.append(df)\n",
    "\tdf = concat(columns, axis=1)\n",
    "\tdf.fillna(0, inplace=True)\n",
    "\treturn df\n",
    "\n",
    "# create a differenced series\n",
    "def difference(dataset, interval=1):\n",
    "\tdiff = list()\n",
    "\tfor i in range(interval, len(dataset)):\n",
    "\t\tvalue = dataset[i] - dataset[i - interval]\n",
    "\t\tdiff.append(value)\n",
    "\treturn Series(diff)\n",
    "\n",
    "# invert differenced value\n",
    "def inverse_difference(history, yhat, interval=1):\n",
    "\treturn yhat + history[-interval]\n",
    "\n",
    "# scale train and test data to [-1, 1]\n",
    "def scale(train, test):\n",
    "\t# fit scaler\n",
    "\tscaler = MinMaxScaler(feature_range=(-1, 1))\n",
    "\tscaler = scaler.fit(train)\n",
    "\t# transform train\n",
    "\ttrain = train.reshape(train.shape[0], train.shape[1])\n",
    "\ttrain_scaled = scaler.transform(train)\n",
    "\t# transform test\n",
    "\ttest = test.reshape(test.shape[0], test.shape[1])\n",
    "\ttest_scaled = scaler.transform(test)\n",
    "\treturn scaler, train_scaled, test_scaled\n",
    "\n",
    "# inverse scaling for a forecasted value\n",
    "def invert_scale(scaler, X, value):\n",
    "\tnew_row = [x for x in X] + [value]\n",
    "\tarray = numpy.array(new_row)\n",
    "\tarray = array.reshape(1, len(array))\n",
    "\tinverted = scaler.inverse_transform(array)\n",
    "\treturn inverted[0, -1]\n",
    "\n",
    "# fit an LSTM network to training data\n",
    "def fit_lstm(train, batch_size, nb_epoch, neurons):\n",
    "\tX, y = train[:, 0:-1], train[:, -1]\n",
    "\tX = X.reshape(X.shape[0], 1, X.shape[1])\n",
    "\tmodel = Sequential()\n",
    "\tmodel.add(LSTM(neurons, batch_input_shape=(batch_size, X.shape[1], X.shape[2]), stateful=True))\n",
    "\tmodel.add(Dense(1))\n",
    "\tmodel.compile(loss='mean_squared_error', optimizer='adam')\n",
    "\tfor i in range(nb_epoch):\n",
    "\t\tmodel.fit(X, y, epochs=1, batch_size=batch_size, verbose=0, shuffle=False)\n",
    "\t\tmodel.reset_states()\n",
    "\treturn model\n",
    "\n",
    "# make a one-step forecast\n",
    "def forecast_lstm(model, batch_size, X):\n",
    "\tX = X.reshape(1, 1, len(X))\n",
    "\tyhat = model.predict(X, batch_size=batch_size)\n",
    "\treturn yhat[0,0]"
   ]
  },
  {
   "cell_type": "code",
   "execution_count": 32,
   "metadata": {
    "scrolled": true
   },
   "outputs": [
    {
     "data": {
      "text/plain": [
       "date\n",
       "2007-12-17    1.4400\n",
       "2007-12-18    1.4413\n",
       "2007-12-19    1.4383\n",
       "2007-12-20    1.4330\n",
       "2007-12-21    1.4357\n",
       "Name: close, dtype: float64"
      ]
     },
     "execution_count": 32,
     "metadata": {},
     "output_type": "execute_result"
    }
   ],
   "source": [
    "series1 = read_csv('EURUSD.csv', index_col=0, header=None, \n",
    "                  names = ['date', 'dummy', 'open', 'high', 'low','close','volume'], parse_dates=[0], date_parser=parser)\n",
    "series=series1['close']\n",
    "series.head()"
   ]
  },
  {
   "cell_type": "code",
   "execution_count": 46,
   "metadata": {
    "collapsed": true
   },
   "outputs": [],
   "source": [
    "filename='score_result_eurusd_diff.txt'\n",
    "f = open(filename , 'w' )\n",
    "f.write('epoch|neuron|rmse \\n' )\n",
    "f.close()"
   ]
  },
  {
   "cell_type": "code",
   "execution_count": 48,
   "metadata": {},
   "outputs": [
    {
     "name": "stdout",
     "output_type": "stream",
     "text": [
      "done\n"
     ]
    }
   ],
   "source": [
    "# transform data to be stationary\n",
    "raw_values = series.values\n",
    "diff_values = difference(raw_values, 1)\n",
    "\n",
    "# transform data to be supervised learning\n",
    "supervised = timeseries_to_supervised(diff_values, 1)\n",
    "supervised_values = supervised.values\n",
    "\n",
    "# split data into train and test-sets\n",
    "train, test = supervised_values[0:-100], supervised_values[-100:]\n",
    "\n",
    "# transform the scale of the data\n",
    "scaler, train_scaled, test_scaled = scale(train, test)\n",
    "\n",
    "#nb_epoch_range=range(100,1100,100)\n",
    "nb_epoch_range=[100]\n",
    "#neuron_range=range(1,11)\n",
    "neuron_range=[1]\n",
    "for i1 in nb_epoch_range:\n",
    "    for i2 in neuron_range:\n",
    "        # repeat experiment\n",
    "        repeats = 10\n",
    "        error_scores = []\n",
    "        for r in range(repeats):\n",
    "            # fit the model\n",
    "            lstm_model = fit_lstm(train_scaled, 1, i1, i2)\n",
    "            # forecast the entire training dataset to build up state for forecasting\n",
    "            train_reshaped = train_scaled[:, 0].reshape(len(train_scaled), 1, 1)\n",
    "            lstm_model.predict(train_reshaped, batch_size=1)\n",
    "            # walk-forward validation on the test data\n",
    "            predictions = list()\n",
    "            for i in range(len(test_scaled)):\n",
    "                # make one-step forecast\n",
    "                X, y = test_scaled[i, 0:-1], test_scaled[i, -1]\n",
    "                yhat = forecast_lstm(lstm_model, 1, X)\n",
    "                # invert scaling\n",
    "                yhat = invert_scale(scaler, X, yhat)\n",
    "                # invert differencing\n",
    "                yhat = inverse_difference(raw_values, yhat, len(test_scaled)+1-i)\n",
    "                # store forecast\n",
    "                predictions.append(yhat)\n",
    "            # report performance\n",
    "            rmse = sqrt(mean_squared_error(raw_values[-100:], predictions))\n",
    "            #print('%d) Test RMSE: %.3f' % (r+1, rmse))\n",
    "            #error_scores.append([rmse])\n",
    " \n",
    "            f = open( filename, 'a' )\n",
    "            f.write(str(i1)+'|'+str(i2)+'|'+str(rmse)+'\\n' )\n",
    "            f.close()\n",
    "\n",
    "print(\"done\")"
   ]
  },
  {
   "cell_type": "code",
   "execution_count": 49,
   "metadata": {},
   "outputs": [
    {
     "data": {
      "text/html": [
       "<div>\n",
       "<style>\n",
       "    .dataframe thead tr:only-child th {\n",
       "        text-align: right;\n",
       "    }\n",
       "\n",
       "    .dataframe thead th {\n",
       "        text-align: left;\n",
       "    }\n",
       "\n",
       "    .dataframe tbody tr th {\n",
       "        vertical-align: top;\n",
       "    }\n",
       "</style>\n",
       "<table border=\"1\" class=\"dataframe\">\n",
       "  <thead>\n",
       "    <tr>\n",
       "      <th></th>\n",
       "      <th colspan=\"2\" halign=\"left\">rmse</th>\n",
       "    </tr>\n",
       "    <tr>\n",
       "      <th></th>\n",
       "      <th>count</th>\n",
       "      <th>mean</th>\n",
       "    </tr>\n",
       "    <tr>\n",
       "      <th>neuron</th>\n",
       "      <th>1</th>\n",
       "      <th>1</th>\n",
       "    </tr>\n",
       "    <tr>\n",
       "      <th>epoch</th>\n",
       "      <th></th>\n",
       "      <th></th>\n",
       "    </tr>\n",
       "  </thead>\n",
       "  <tbody>\n",
       "    <tr>\n",
       "      <th>100</th>\n",
       "      <td>10</td>\n",
       "      <td>0.005236</td>\n",
       "    </tr>\n",
       "  </tbody>\n",
       "</table>\n",
       "</div>"
      ],
      "text/plain": [
       "       rmse           \n",
       "       count      mean\n",
       "neuron     1         1\n",
       "epoch                 \n",
       "100       10  0.005236"
      ]
     },
     "execution_count": 49,
     "metadata": {},
     "output_type": "execute_result"
    }
   ],
   "source": [
    "import pandas as pd\n",
    "\n",
    "#DataFrame.pivot_table(values=None, index=None, columns=None, aggfunc='mean',fill_value=None, margins=False, dropna=True)\n",
    "\n",
    "df = pd.read_csv(filename,  sep='|')\n",
    "df.pivot_table(index='epoch',columns='neuron',aggfunc=('count','mean'))"
   ]
  },
  {
   "cell_type": "code",
   "execution_count": 50,
   "metadata": {},
   "outputs": [
    {
     "data": {
      "image/png": "[encoded data removed]",
      "text/plain": [
       "<matplotlib.figure.Figure at 0x25687240>"
      ]
     },
     "metadata": {},
     "output_type": "display_data"
    }
   ],
   "source": [
    "import matplotlib.pyplot as plt\n",
    "\n",
    "true_data=raw_values[-100:]\n",
    "predicted_data=predictions\n",
    "\n",
    "fig = plt.figure(facecolor='white')\n",
    "ax = fig.add_subplot(111)\n",
    "ax.plot(true_data, label='True Data')\n",
    "plt.plot(predicted_data, label='Prediction')\n",
    "plt.legend()\n",
    "plt.show()"
   ]
  },
  {
   "cell_type": "code",
   "execution_count": 57,
   "metadata": {},
   "outputs": [
    {
     "data": {
      "text/plain": [
       "array([ 1.04379,  1.04545,  1.0457 ,  1.04114,  1.049  ,  1.05125,\n",
       "        1.0406 ,  1.04888,  1.06062,  1.05319,  1.05714,  1.05544,\n",
       "        1.05827,  1.06119,  1.06393,  1.06004,  1.07125,  1.06296,\n",
       "        1.06624,  1.06973,  1.07637,  1.07324,  1.07477,  1.06816,\n",
       "        1.06949,  1.06965,  1.07973,  1.07684,  1.07571,  1.07858,\n",
       "        1.07501,  1.06821,  1.06983,  1.06556,  1.06389,  1.05964,\n",
       "        1.05788,  1.05988,  1.06744,  1.06093,  1.06112,  1.0536 ,\n",
       "        1.05571,  1.05819,  1.05572,  1.05865,  1.05764,  1.05475,\n",
       "        1.05064,  1.06194,  1.05817,  1.05661,  1.05415,  1.0577 ,\n",
       "        1.0671 ,  1.06526,  1.06041,  1.07325,  1.07641,  1.07379,\n",
       "        1.07398,  1.08103,  1.07984,  1.07841,  1.07995,  1.08628,\n",
       "        1.08151,  1.07661,  1.06739,  1.06579,  1.06696,  1.06731,\n",
       "        1.06632,  1.06435,  1.0591 ,  1.05953,  1.06046,  1.06658,\n",
       "        1.06131,  1.06101,  1.06432,  1.07302,  1.07111,  1.07166,\n",
       "        1.07238,  1.08671,  1.09262,  1.0904 ,  1.0872 ,  1.08985,\n",
       "        1.0899 ,  1.09322,  1.0884 ,  1.09839,  1.09995,  1.09223,\n",
       "        1.0874 ,  1.08674,  1.08607,  1.09316])"
      ]
     },
     "execution_count": 57,
     "metadata": {},
     "output_type": "execute_result"
    }
   ],
   "source": [
    "raw_values[-100:]"
   ]
  },
  {
   "cell_type": "code",
   "execution_count": 66,
   "metadata": {},
   "outputs": [],
   "source": [
    "predict=np.array(predictions)\n",
    "predict=predict.reshape(len(predict),1);\n",
    "raw=raw_values[-100:]\n",
    "raw=raw.reshape(len(raw),1);"
   ]
  },
  {
   "cell_type": "code",
   "execution_count": 80,
   "metadata": {},
   "outputs": [
    {
     "data": {
      "text/plain": [
       "array([[ 1.04379   ,  1.04197188],\n",
       "       [ 1.04545   ,  1.043465  ],\n",
       "       [ 1.0457    ,  1.04512713],\n",
       "       [ 1.04114   ,  1.0453667 ],\n",
       "       [ 1.049     ,  1.04075026],\n",
       "       [ 1.05125   ,  1.04869129],\n",
       "       [ 1.0406    ,  1.05093963],\n",
       "       [ 1.04888   ,  1.04012186],\n",
       "       [ 1.06062   ,  1.04855629],\n",
       "       [ 1.05319   ,  1.06033548]])"
      ]
     },
     "execution_count": 80,
     "metadata": {},
     "output_type": "execute_result"
    }
   ],
   "source": [
    "forecast=np.c_[raw,predict]\n",
    "forecast[:10,:]"
   ]
  }
 ],
 "metadata": {
  "kernelspec": {
   "display_name": "Python 3",
   "language": "python",
   "name": "python3"
  },
  "language_info": {
   "codemirror_mode": {
    "name": "ipython",
    "version": 3
   },
   "file_extension": ".py",
   "mimetype": "text/x-python",
   "name": "python",
   "nbconvert_exporter": "python",
   "pygments_lexer": "ipython3",
   "version": "3.6.1"
  }
 },
 "nbformat": 4,
 "nbformat_minor": 2
}
