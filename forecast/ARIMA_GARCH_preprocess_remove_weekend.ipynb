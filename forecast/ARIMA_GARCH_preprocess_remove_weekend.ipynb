{
 "cells": [
  {
   "cell_type": "code",
   "execution_count": 1,
   "metadata": {
    "collapsed": true
   },
   "outputs": [],
   "source": [
    "import pandas as pd\n",
    "import numpy as np\n",
    "\n",
    "import datetime as dt\n",
    "import time\n",
    "\n",
    "%matplotlib inline  \n",
    "\n",
    "np.set_printoptions(suppress=True)\n",
    "\n",
    "def parser(x):\n",
    "    return pd.datetime.strptime(x, '%Y.%m.%d')"
   ]
  },
  {
   "cell_type": "markdown",
   "metadata": {},
   "source": [
    "### Import file"
   ]
  },
  {
   "cell_type": "code",
   "execution_count": 2,
   "metadata": {
    "collapsed": false
   },
   "outputs": [
    {
     "name": "stdout",
     "output_type": "stream",
     "text": [
      "2    490\n",
      "0    489\n",
      "1    488\n",
      "3    487\n",
      "4    487\n",
      "6    245\n",
      "Name: weekday, dtype: int64\n",
      "2    490\n",
      "0    489\n",
      "1    488\n",
      "3    487\n",
      "4    487\n",
      "Name: weekday, dtype: int64\n"
     ]
    }
   ],
   "source": [
    "df = pd.read_csv('EURUSD.csv', header=None, \n",
    "                  names = ['date', 'dummy', 'open', 'high', 'low','close','volume'], parse_dates=[0], date_parser=parser)\n",
    "\n",
    "#drop columns\n",
    "df.drop(df.loc[:,['dummy','high','low','volume']].head(0).columns, axis=1, inplace=True)\n",
    "\n",
    "#create day of week field\n",
    "df['weekday']= df['date'].dt.dayofweek\n",
    "df.head()\n",
    "print (df['weekday'].value_counts())\n",
    "\n",
    "#select from Monday to Friday only\n",
    "df1=df.loc[df['weekday'].isin([0,1,2,3,4])]\n",
    "\n",
    "#distribution by field\n",
    "print (df1['weekday'].value_counts())"
   ]
  },
  {
   "cell_type": "markdown",
   "metadata": {},
   "source": [
    "### Export to R - ARMA - GARCH model"
   ]
  },
  {
   "cell_type": "code",
   "execution_count": 36,
   "metadata": {
    "collapsed": true
   },
   "outputs": [],
   "source": [
    "df2=df1.loc[:,('date','close')]\n",
    "\n",
    "df2.to_csv('EURUSD_remove_weekend.csv',index=False)"
   ]
  }
 ],
 "metadata": {
  "kernelspec": {
   "display_name": "Python 2",
   "language": "python",
   "name": "python2"
  },
  "language_info": {
   "codemirror_mode": {
    "name": "ipython",
    "version": 2
   },
   "file_extension": ".py",
   "mimetype": "text/x-python",
   "name": "python",
   "nbconvert_exporter": "python",
   "pygments_lexer": "ipython2",
   "version": "2.7.13"
  }
 },
 "nbformat": 4,
 "nbformat_minor": 2
}
