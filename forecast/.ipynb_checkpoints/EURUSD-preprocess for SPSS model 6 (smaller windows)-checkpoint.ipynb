{
 "cells": [
  {
   "cell_type": "code",
   "execution_count": 1,
   "metadata": {
    "collapsed": true
   },
   "outputs": [],
   "source": [
    "import pandas as pd\n",
    "import numpy as np\n",
    "\n",
    "import matplotlib.pylab as plt\n",
    "import datetime as dt\n",
    "import time\n",
    "\n",
    "%matplotlib inline  \n",
    "\n",
    "np.set_printoptions(suppress=True)\n",
    "\n",
    "def parser(x):\n",
    "    return pd.datetime.strptime(x, '%Y.%m.%d')"
   ]
  },
  {
   "cell_type": "markdown",
   "metadata": {},
   "source": [
    "### Import file"
   ]
  },
  {
   "cell_type": "code",
   "execution_count": 2,
   "metadata": {
    "scrolled": true
   },
   "outputs": [
    {
     "name": "stdout",
     "output_type": "stream",
     "text": [
      "2    490\n",
      "0    489\n",
      "1    488\n",
      "3    487\n",
      "4    487\n",
      "6    245\n",
      "Name: weekday, dtype: int64\n",
      "2    490\n",
      "0    489\n",
      "1    488\n",
      "3    487\n",
      "4    487\n",
      "Name: weekday, dtype: int64\n"
     ]
    }
   ],
   "source": [
    "df = pd.read_csv('EURUSD.csv', header=None, \n",
    "                  names = ['date', 'dummy', 'open', 'high', 'low','close','volume'], parse_dates=[0], date_parser=parser)\n",
    "\n",
    "#drop columns\n",
    "df.drop(df.loc[:,['dummy','high','low','volume']].head(0).columns, axis=1, inplace=True)\n",
    "\n",
    "#create day of week field\n",
    "df['weekday']= df['date'].dt.dayofweek\n",
    "df.head()\n",
    "print (df['weekday'].value_counts())\n",
    "\n",
    "#select from Monday to Friday only\n",
    "df1=df.loc[df['weekday'].isin([0,1,2,3,4])]\n",
    "\n",
    "#distribution by field\n",
    "print (df1['weekday'].value_counts())"
   ]
  },
  {
   "cell_type": "code",
   "execution_count": 18,
   "metadata": {
    "scrolled": true
   },
   "outputs": [
    {
     "name": "stderr",
     "output_type": "stream",
     "text": [
      "c:\\users\\kckpang\\appdata\\local\\conda\\conda\\envs\\python3\\lib\\site-packages\\ipykernel_launcher.py:1: SettingWithCopyWarning: \n",
      "A value is trying to be set on a copy of a slice from a DataFrame.\n",
      "Try using .loc[row_indexer,col_indexer] = value instead\n",
      "\n",
      "See the caveats in the documentation: http://pandas.pydata.org/pandas-docs/stable/indexing.html#indexing-view-versus-copy\n",
      "  \"\"\"Entry point for launching an IPython kernel.\n"
     ]
    }
   ],
   "source": [
    "df1['close_open']=df1['close'] - df1['open']\n",
    "data =df1['close_open'].values"
   ]
  },
  {
   "cell_type": "code",
   "execution_count": 19,
   "metadata": {
    "scrolled": true
   },
   "outputs": [
    {
     "name": "stdout",
     "output_type": "stream",
     "text": [
      "        date    open   close  weekday  close_open\n",
      "0 2007-12-17  1.4390  1.4400        0      0.0010\n",
      "1 2007-12-18  1.4399  1.4413        1      0.0014\n",
      "2 2007-12-19  1.4414  1.4383        2     -0.0031\n",
      "3 2007-12-20  1.4384  1.4330        3     -0.0054\n",
      "4 2007-12-21  1.4329  1.4357        4      0.0028\n",
      "2441\n"
     ]
    }
   ],
   "source": [
    "print (df1.head())\n",
    "print (len(data))"
   ]
  },
  {
   "cell_type": "markdown",
   "metadata": {},
   "source": [
    "### Preparing Train and Test"
   ]
  },
  {
   "cell_type": "code",
   "execution_count": 7,
   "metadata": {
    "collapsed": true,
    "scrolled": true
   },
   "outputs": [],
   "source": [
    "train=30\n",
    "\n",
    "X = []\n",
    "for i in range(0, len(data)-train):\n",
    "    try:\n",
    "        x_i = data[i:i+train+1]\n",
    "            \n",
    "    except:\n",
    "        break\n",
    "\n",
    "    X.append(x_i)\n",
    "    \n",
    "X = np.array(X)\n",
    "\n",
    "\n",
    "percentage=0.9\n",
    "X_train = X[0:int(len(X) * percentage)]\n",
    "\n",
    "X_test = X[int(len(X) * percentage):]\n"
   ]
  },
  {
   "cell_type": "code",
   "execution_count": 13,
   "metadata": {},
   "outputs": [],
   "source": [
    "i=0\n",
    "x_i=data[i:i+train+1]"
   ]
  },
  {
   "cell_type": "code",
   "execution_count": 15,
   "metadata": {
    "collapsed": true
   },
   "outputs": [],
   "source": [
    "X=[]\n",
    "X.append(x_i)\n",
    "X = np.array(X)"
   ]
  },
  {
   "cell_type": "code",
   "execution_count": 17,
   "metadata": {},
   "outputs": [
    {
     "name": "stdout",
     "output_type": "stream",
     "text": [
      "(1, 31)\n"
     ]
    }
   ],
   "source": [
    "print (X.shape)"
   ]
  },
  {
   "cell_type": "code",
   "execution_count": 8,
   "metadata": {},
   "outputs": [
    {
     "name": "stdout",
     "output_type": "stream",
     "text": [
      "(2196,)\n",
      "(245,)\n"
     ]
    }
   ],
   "source": [
    "print (X_train.shape)\n",
    "print (X_test.shape)"
   ]
  }
 ],
 "metadata": {
  "kernelspec": {
   "display_name": "Python 3",
   "language": "python",
   "name": "python3"
  },
  "language_info": {
   "codemirror_mode": {
    "name": "ipython",
    "version": 3
   },
   "file_extension": ".py",
   "mimetype": "text/x-python",
   "name": "python",
   "nbconvert_exporter": "python",
   "pygments_lexer": "ipython3",
   "version": "3.6.1"
  }
 },
 "nbformat": 4,
 "nbformat_minor": 2
}
