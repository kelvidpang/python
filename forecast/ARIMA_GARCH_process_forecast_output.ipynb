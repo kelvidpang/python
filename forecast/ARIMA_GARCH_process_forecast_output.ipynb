{
 "cells": [
  {
   "cell_type": "code",
   "execution_count": 2,
   "metadata": {
    "collapsed": true
   },
   "outputs": [],
   "source": [
    "import os\n",
    "\n",
    "os.chdir(r\"D:\\kelvid\\python\\forecast\")\n",
    "\n",
    "forecasts = open(\"forecasts_w_weekend.csv\", \"r\").readlines()\n",
    "\n",
    "old_value = 1\n",
    "new_list = []\n",
    "for f in forecasts[1:]:\n",
    "    strpf = f.replace('\"','').strip()\n",
    "    new_str = \"%s,%s\\n\" % (strpf, old_value)\n",
    "    newspl = new_str.strip().split(\",\")\n",
    "    final_str = \"%s,%s\\n\" % (newspl[0], newspl[2])\n",
    "    final_str = final_str.replace('\"','')\n",
    "    old_value = f.strip().split(',')[1]\n",
    "    new_list.append(final_str)\n",
    "\n",
    "out = open(\"forecasts_w_weekend_new.csv\", \"w\")\n",
    "for n in new_list:\n",
    "    out.write(n)"
   ]
  }
 ],
 "metadata": {
  "kernelspec": {
   "display_name": "Python 3",
   "language": "python",
   "name": "python3"
  },
  "language_info": {
   "codemirror_mode": {
    "name": "ipython",
    "version": 3
   },
   "file_extension": ".py",
   "mimetype": "text/x-python",
   "name": "python",
   "nbconvert_exporter": "python",
   "pygments_lexer": "ipython3",
   "version": "3.6.1"
  }
 },
 "nbformat": 4,
 "nbformat_minor": 2
}
