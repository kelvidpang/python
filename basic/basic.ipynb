{
 "cells": [
  {
   "cell_type": "code",
   "execution_count": 12,
   "metadata": {
    "collapsed": false
   },
   "outputs": [
    {
     "name": "stdout",
     "output_type": "stream",
     "text": [
      "MB\n"
     ]
    }
   ],
   "source": [
    "\n",
    "            "
   ]
  },
  {
   "cell_type": "code",
   "execution_count": 32,
   "metadata": {
    "collapsed": false
   },
   "outputs": [
    {
     "name": "stdout",
     "output_type": "stream",
     "text": [
      "MB\n"
     ]
    },
    {
     "data": {
      "text/plain": [
       "None"
      ]
     },
     "metadata": {},
     "output_type": "display_data"
    },
    {
     "data": {
      "text/plain": [
       "'multiple is 1000'"
      ]
     },
     "metadata": {},
     "output_type": "display_data"
    },
    {
     "data": {
      "text/plain": [
       "['KB', 'MB', 'GB', 'TB', 'PB', 'EB', 'ZB']"
      ]
     },
     "metadata": {},
     "output_type": "display_data"
    },
    {
     "name": "stdout",
     "output_type": "stream",
     "text": [
      "100.0MB\n"
     ]
    },
    {
     "data": {
      "text/plain": [
       "None"
      ]
     },
     "metadata": {},
     "output_type": "display_data"
    },
    {
     "data": {
      "text/plain": [
       "'multiple is 1024'"
      ]
     },
     "metadata": {},
     "output_type": "display_data"
    },
    {
     "data": {
      "text/plain": [
       "['KiB', 'MiB', 'GiB', 'TiB', 'PiB', 'EiB', 'ZiB']"
      ]
     },
     "metadata": {},
     "output_type": "display_data"
    },
    {
     "name": "stdout",
     "output_type": "stream",
     "text": [
      "95.4MiB\n"
     ]
    },
    {
     "data": {
      "text/plain": [
       "None"
      ]
     },
     "metadata": {},
     "output_type": "display_data"
    }
   ],
   "source": [
    "from IPython.display import display\n",
    "\n",
    "\n",
    "SUFFIXES = {1000: ['KB','MB','GB','TB','PB','EB','ZB'],\n",
    "            1024: ['KiB','MiB','GiB','TiB','PiB','EiB','ZiB']}\n",
    "   \n",
    "display(print (SUFFIXES[1000][1]))\n",
    "\n",
    "def approximate_size(size, a_kilobyte_is_1024_bytes=True):\n",
    "    if size <0:\n",
    "        raise ValueError('number must be non-negative')\n",
    "    \n",
    "    multiple=1024 if a_kilobyte_is_1024_bytes else 1000\n",
    "\n",
    "    display(\"multiple is \"+ str(multiple))\n",
    "    display(SUFFIXES[multiple])\n",
    "    #continue to loop the SUFFIXES and stop once the size is <1000 or 1024\n",
    "    for suffix in SUFFIXES[multiple]:\n",
    "        size /= multiple\n",
    "        if size < multiple:\n",
    "            return '{0:.1f}{1}'.format(size,suffix)\n",
    "            \n",
    "    raise ValueError('number too large')\n",
    "\n",
    "display(print (approximate_size(100000000,False)))\n",
    "display(print (approximate_size(100000000)))"
   ]
  },
  {
   "cell_type": "code",
   "execution_count": 33,
   "metadata": {
    "collapsed": false
   },
   "outputs": [
    {
     "data": {
      "text/plain": [
       "['',\n",
       " '/Users/kelvidpang/anaconda/envs/python3/lib/python36.zip',\n",
       " '/Users/kelvidpang/anaconda/envs/python3/lib/python3.6',\n",
       " '/Users/kelvidpang/anaconda/envs/python3/lib/python3.6/lib-dynload',\n",
       " '/Users/kelvidpang/anaconda/envs/python3/lib/python3.6/site-packages',\n",
       " '/Users/kelvidpang/anaconda/envs/python3/lib/python3.6/site-packages/Sphinx-1.5.1-py3.6.egg',\n",
       " '/Users/kelvidpang/anaconda/envs/python3/lib/python3.6/site-packages/aeosa',\n",
       " '/Users/kelvidpang/anaconda/envs/python3/lib/python3.6/site-packages/setuptools-27.2.0-py3.6.egg',\n",
       " '/Users/kelvidpang/anaconda/envs/python3/lib/python3.6/site-packages/IPython/extensions',\n",
       " '/Users/kelvidpang/.ipython']"
      ]
     },
     "execution_count": 33,
     "metadata": {},
     "output_type": "execute_result"
    }
   ],
   "source": [
    "import sys\n",
    "\n",
    "sys.path"
   ]
  }
 ],
 "metadata": {
  "kernelspec": {
   "display_name": "Python 3",
   "language": "python",
   "name": "python3"
  },
  "language_info": {
   "codemirror_mode": {
    "name": "ipython",
    "version": 3
   },
   "file_extension": ".py",
   "mimetype": "text/x-python",
   "name": "python",
   "nbconvert_exporter": "python",
   "pygments_lexer": "ipython3",
   "version": "3.6.0"
  }
 },
 "nbformat": 4,
 "nbformat_minor": 2
}
