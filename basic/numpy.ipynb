{
 "cells": [
  {
   "cell_type": "code",
   "execution_count": 7,
   "metadata": {},
   "outputs": [],
   "source": [
    "import numpy as np\n",
    "from numpy.random import randint \n",
    "from numpy.random import random \n",
    "from IPython.display import display"
   ]
  },
  {
   "cell_type": "markdown",
   "metadata": {},
   "source": [
    "### The new numpy variable is just view from original variable"
   ]
  },
  {
   "cell_type": "code",
   "execution_count": 66,
   "metadata": {},
   "outputs": [
    {
     "data": {
      "text/plain": [
       "array([[ 7.,  2.,  3.],\n",
       "       [ 4.,  5.,  6.]])"
      ]
     },
     "metadata": {},
     "output_type": "display_data"
    },
    {
     "data": {
      "text/plain": [
       "array([[ 7.,  2.],\n",
       "       [ 3.,  4.],\n",
       "       [ 5.,  6.]])"
      ]
     },
     "metadata": {},
     "output_type": "display_data"
    }
   ],
   "source": [
    "a = np.array([[1, 2, 3], [4, 5, 6]],float)\n",
    "b=a.reshape(3,2)\n",
    "a[0,0]=7\n",
    "display(a)\n",
    "display(b)\n"
   ]
  },
  {
   "cell_type": "code",
   "execution_count": 2,
   "metadata": {},
   "outputs": [
    {
     "data": {
      "text/plain": [
       "array([1, 2, 3])"
      ]
     },
     "metadata": {},
     "output_type": "display_data"
    },
    {
     "data": {
      "text/plain": [
       "array([[1],\n",
       "       [2],\n",
       "       [3]])"
      ]
     },
     "metadata": {},
     "output_type": "display_data"
    },
    {
     "data": {
      "text/plain": [
       "array([[[1]],\n",
       "\n",
       "       [[2]],\n",
       "\n",
       "       [[3]]])"
      ]
     },
     "metadata": {},
     "output_type": "display_data"
    },
    {
     "data": {
      "text/plain": [
       "(3,)"
      ]
     },
     "metadata": {},
     "output_type": "display_data"
    },
    {
     "data": {
      "text/plain": [
       "(3, 1)"
      ]
     },
     "metadata": {},
     "output_type": "display_data"
    },
    {
     "data": {
      "text/plain": [
       "(3, 1, 1)"
      ]
     },
     "metadata": {},
     "output_type": "display_data"
    }
   ],
   "source": [
    "a = np.array([1, 2, 3])\n",
    "b=a.reshape(a.shape[0],1)\n",
    "c=a.reshape(a.shape[0],1,1)\n",
    "display(a)\n",
    "display(b)\n",
    "display(c)\n",
    "display(a.shape)\n",
    "display(b.shape)\n",
    "display(c.shape)"
   ]
  },
  {
   "cell_type": "markdown",
   "metadata": {},
   "source": [
    "### Difference and Inverted Difference (t and t+1)"
   ]
  },
  {
   "cell_type": "code",
   "execution_count": 10,
   "metadata": {},
   "outputs": [
    {
     "data": {
      "text/plain": [
       "array([ 1,  2,  3, -7])"
      ]
     },
     "metadata": {},
     "output_type": "display_data"
    },
    {
     "data": {
      "text/plain": [
       "array([1, 2, 4, 7, 0])"
      ]
     },
     "metadata": {},
     "output_type": "display_data"
    }
   ],
   "source": [
    "import numpy as np\n",
    "from IPython.display import display as disp\n",
    "\n",
    "#difference\n",
    "x = np.array([1, 2, 4, 7, 0])\n",
    "x_diff = np.diff(x,1)\n",
    "disp(x_diff)\n",
    "\n",
    "#invereted difference\n",
    "x_invert=np.r_[x[0], x_diff].cumsum()\n",
    "disp(x_invert)"
   ]
  },
  {
   "cell_type": "markdown",
   "metadata": {},
   "source": [
    "### Difference and Inverted Difference (t and t+lookback)"
   ]
  },
  {
   "cell_type": "code",
   "execution_count": 21,
   "metadata": {
    "scrolled": true
   },
   "outputs": [
    {
     "data": {
      "text/plain": [
       "[6, -2]"
      ]
     },
     "metadata": {},
     "output_type": "display_data"
    },
    {
     "data": {
      "text/plain": [
       "[7, 0]"
      ]
     },
     "metadata": {},
     "output_type": "display_data"
    }
   ],
   "source": [
    "import numpy as np\n",
    "from IPython.display import display as disp\n",
    "\n",
    "#difference\n",
    "x = np.array([1, 2, 4, 7, 0])\n",
    "\n",
    "lookback=3\n",
    "result=[]\n",
    "for i in range(len(x)-lookback):\n",
    "    result.append(x[i+lookback] - x[i])\n",
    "    \n",
    "disp(result)\n",
    "   \n",
    "#invereted difference\n",
    "result_invert=[]\n",
    "for i in range(len(x)-lookback):\n",
    "    result_invert.append(x[i+lookback])\n",
    "    \n",
    "disp(result_invert)"
   ]
  },
  {
   "cell_type": "markdown",
   "metadata": {},
   "source": [
    "### Ravel is a new view of original view, Flatten is a new copy"
   ]
  },
  {
   "cell_type": "markdown",
   "metadata": {},
   "source": [
    "change in a will change in b array, but c didn't change"
   ]
  },
  {
   "cell_type": "code",
   "execution_count": 12,
   "metadata": {
    "scrolled": true
   },
   "outputs": [
    {
     "data": {
      "text/plain": [
       "array([[ 9.,  2.,  3.],\n",
       "       [ 4.,  5.,  6.]])"
      ]
     },
     "metadata": {},
     "output_type": "display_data"
    },
    {
     "data": {
      "text/plain": [
       "array([ 9.,  2.,  3.,  4.,  5.,  6.])"
      ]
     },
     "metadata": {},
     "output_type": "display_data"
    },
    {
     "data": {
      "text/plain": [
       "array([ 1.,  2.,  3.,  4.,  5.,  6.])"
      ]
     },
     "metadata": {},
     "output_type": "display_data"
    }
   ],
   "source": [
    "a = np.array([[1, 2, 3], [4, 5, 6]], float)\n",
    "b=a.ravel()\n",
    "c=a.flatten()\n",
    "a[0,0]=9\n",
    "\n",
    "display(a)\n",
    "display(b)\n",
    "display(c)"
   ]
  },
  {
   "cell_type": "markdown",
   "metadata": {},
   "source": [
    "### Row Append and Column Append"
   ]
  },
  {
   "cell_type": "code",
   "execution_count": 100,
   "metadata": {
    "scrolled": true
   },
   "outputs": [
    {
     "name": "stdout",
     "output_type": "stream",
     "text": [
      "variable a:\n",
      "[[4]\n",
      " [2]\n",
      " [0]]\n",
      "variable b:\n",
      "[[0]\n",
      " [2]\n",
      " [2]]\n",
      "Row Append\n",
      "[[4]\n",
      " [2]\n",
      " [0]\n",
      " [0]\n",
      " [2]\n",
      " [2]]\n",
      "Column Append\n",
      "[[4 0]\n",
      " [2 2]\n",
      " [0 2]]\n"
     ]
    }
   ],
   "source": [
    "a=randint(5,size=(3,1))\n",
    "b=randint(5,size=(3,1))\n",
    "print (\"variable a:\")\n",
    "print(a)\n",
    "print (\"variable b:\")\n",
    "print(b)\n",
    "c=np.r_[a,b]\n",
    "print(\"Row Append\")\n",
    "print(c)\n",
    "d=np.c_[a,b]\n",
    "print(\"Column Append\")\n",
    "print(d)"
   ]
  },
  {
   "cell_type": "markdown",
   "metadata": {},
   "source": [
    "### Multiplication"
   ]
  },
  {
   "cell_type": "code",
   "execution_count": 126,
   "metadata": {},
   "outputs": [
    {
     "name": "stdout",
     "output_type": "stream",
     "text": [
      "[[1 2]\n",
      " [3 4]]\n",
      "[[1 2]\n",
      " [3 4]]\n",
      "[[ 1  4]\n",
      " [ 9 16]]\n"
     ]
    }
   ],
   "source": [
    "a=np.array([[1,2],[3,4]])\n",
    "b=np.array([[1,2],[3,4]])\n",
    "print (a)\n",
    "print (b)\n",
    "print (a*b)"
   ]
  },
  {
   "cell_type": "code",
   "execution_count": 146,
   "metadata": {},
   "outputs": [
    {
     "name": "stdout",
     "output_type": "stream",
     "text": [
      "original array\n",
      "[3 9 1 2 7 2 5 1 2 9]\n",
      "original array ID\n",
      "74323912\n",
      "Descending Order array\n",
      "[9 9 7 5 3 2 2 2 1 1]\n",
      "Descending Order array ID\n",
      "74323912\n",
      "Ascending Order array\n",
      "[1 1 2 2 2 3 5 7 9 9]\n",
      "Ascending Order array ID\n",
      "74323912\n",
      "[1 1 2 2 2 3 5 7 9 9]\n",
      "74323912\n",
      "True\n"
     ]
    }
   ],
   "source": [
    "temp = np.random.randint(1,10, 10)\n",
    "print (\"original array\")\n",
    "print (temp)\n",
    "print (\"original array ID\")\n",
    "print (id(temp))\n",
    "print (\"Descending Order array\")\n",
    "temp[::-1].sort()\n",
    "print(temp)\n",
    "print (\"Descending Order array ID\")\n",
    "print(id(temp))\n",
    "print (\"Ascending Order array\")\n",
    "temp.sort()\n",
    "print(temp)\n",
    "print (\"Ascending Order array ID\")\n",
    "print(id(temp))\n",
    "temp1=temp.reshape(5,2).copy\n",
    "print(temp)\n",
    "print(id(temp))\n",
    "print (np.may_share_memory(temp, temp1))"
   ]
  }
 ],
 "metadata": {
  "kernelspec": {
   "display_name": "Python 3",
   "language": "python",
   "name": "python3"
  },
  "language_info": {
   "codemirror_mode": {
    "name": "ipython",
    "version": 3
   },
   "file_extension": ".py",
   "mimetype": "text/x-python",
   "name": "python",
   "nbconvert_exporter": "python",
   "pygments_lexer": "ipython3",
   "version": "3.6.1"
  }
 },
 "nbformat": 4,
 "nbformat_minor": 2
}
